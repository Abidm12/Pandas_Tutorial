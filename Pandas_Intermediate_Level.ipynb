{
 "cells": [
  {
   "cell_type": "markdown",
   "id": "334f7300",
   "metadata": {},
   "source": [
    "# Pandas Intermediate Level Tutorial"
   ]
  },
  {
   "cell_type": "markdown",
   "id": "3a0f981a",
   "metadata": {},
   "source": [
    "## Section 1: Transforming, Sorting & Aggregating Data"
   ]
  },
  {
   "cell_type": "markdown",
   "id": "96fdb40f",
   "metadata": {},
   "source": [
    "### 1. Data Transformation"
   ]
  },
  {
   "cell_type": "code",
   "execution_count": null,
   "id": "16df1106",
   "metadata": {},
   "outputs": [],
   "source": [
    "df = pd.DataFrame({'Score': [25, 45, 35]})\n",
    "\n",
    "# Apply a custom function to each value\n",
    "df['Double'] = df['Score'].apply(lambda x: x * 2)\n",
    "\n",
    "# Replace values using a dictionary\n",
    "grades = {25: 'Low', 35: 'Medium', 45: 'High'}\n",
    "df['Grade'] = df['Score'].map(grades)\n",
    "\n",
    "# Change data type of a column\n",
    "df['Score'] = df['Score'].astype('float')"
   ]
  },
  {
   "cell_type": "markdown",
   "id": "da3e87f5",
   "metadata": {},
   "source": [
    "📌 Use `.apply()` to apply custom logic,  \n",
    "`.map()` to transform or label values,  \n",
    "and `.astype()` to change data types (like int to float)."
   ]
  },
  {
   "cell_type": "markdown",
   "id": "e36deede",
   "metadata": {},
   "source": [
    "### 2. Sorting"
   ]
  },
  {
   "cell_type": "code",
   "execution_count": null,
   "id": "a95fdfcf",
   "metadata": {},
   "outputs": [],
   "source": [
    "# Sort rows by values in a column\n",
    "df.sort_values('Score', ascending=False)\n",
    "\n",
    "# Sort rows by index\n",
    "df.sort_index()"
   ]
  },
  {
   "cell_type": "markdown",
   "id": "364bf82b",
   "metadata": {},
   "source": [
    "📌 Use sorting to view top performers, recent entries, or organize data for reports."
   ]
  },
  {
   "cell_type": "markdown",
   "id": "abcb482e",
   "metadata": {},
   "source": [
    "### 3. Grouping and Aggregation"
   ]
  },
  {
   "cell_type": "code",
   "execution_count": null,
   "id": "52d76d43",
   "metadata": {},
   "outputs": [],
   "source": [
    "data = {\n",
    "    'Department': ['IT', 'HR', 'IT', 'HR'],\n",
    "    'Salary': [50000, 40000, 55000, 42000]\n",
    "}\n",
    "df = pd.DataFrame(data)\n",
    "\n",
    "# Group by department and get average salary\n",
    "df.groupby('Department')['Salary'].mean()\n",
    "\n",
    "# Multiple aggregations: min and max\n",
    "df.groupby('Department').agg({'Salary': ['min', 'max']})"
   ]
  },
  {
   "cell_type": "markdown",
   "id": "da966dce",
   "metadata": {},
   "source": [
    "📌 Grouping lets you summarize data for each group/category.  \n",
    "Useful for analyzing trends by department, region, category, etc."
   ]
  },
  {
   "cell_type": "markdown",
   "id": "8818c623",
   "metadata": {},
   "source": [
    "## Section 2: Combining, Reshaping & Time-Based Operations"
   ]
  },
  {
   "cell_type": "markdown",
   "id": "52c159d4",
   "metadata": {},
   "source": [
    "### 🔗 4. Combining DataFrames"
   ]
  },
  {
   "cell_type": "code",
   "execution_count": null,
   "id": "d951cd89",
   "metadata": {},
   "outputs": [],
   "source": [
    "# Concatenate two DataFrames (stacking)\n",
    "df1 = pd.DataFrame({'A': [1, 2]})\n",
    "df2 = pd.DataFrame({'A': [3, 4]})\n",
    "pd.concat([df1, df2])\n",
    "\n",
    "# Merge DataFrames using a common key\n",
    "left = pd.DataFrame({'ID': [1, 2], 'Name': ['A', 'B']})\n",
    "right = pd.DataFrame({'ID': [1, 2], 'Score': [90, 95]})\n",
    "pd.merge(left, right, on='ID', how='inner')"
   ]
  },
  {
   "cell_type": "markdown",
   "id": "00f551c4",
   "metadata": {},
   "source": [
    "📌 Use `concat()` to stack datasets vertically.  \n",
    "Use `merge()` to combine datasets based on matching keys like IDs."
   ]
  },
  {
   "cell_type": "markdown",
   "id": "f5a6defb",
   "metadata": {},
   "source": [
    "### 5. Pivot Tables and Crosstabs"
   ]
  },
  {
   "cell_type": "code",
   "execution_count": null,
   "id": "6d8b7c6a",
   "metadata": {},
   "outputs": [],
   "source": [
    "df = pd.DataFrame({\n",
    "    'Department': ['HR', 'IT', 'HR'],\n",
    "    'Gender': ['M', 'F', 'F'],\n",
    "    'Salary': [40000, 50000, 42000]\n",
    "})\n",
    "\n",
    "# Pivot table for summary\n",
    "pd.pivot_table(df, values='Salary', index='Department', columns='Gender')\n",
    "\n",
    "# Crosstab to count combinations\n",
    "pd.crosstab(df['Department'], df['Gender'])"
   ]
  },
  {
   "cell_type": "markdown",
   "id": "06dfb84e",
   "metadata": {},
   "source": [
    "📌 Use pivot tables to summarize numeric data.  \n",
    "Crosstabs help you analyze frequency of categories."
   ]
  },
  {
   "cell_type": "markdown",
   "id": "f7a9356a",
   "metadata": {},
   "source": [
    "### 6. Working with Dates"
   ]
  },
  {
   "cell_type": "code",
   "execution_count": null,
   "id": "1d75c2f0",
   "metadata": {},
   "outputs": [],
   "source": [
    "df = pd.DataFrame({'Date': ['2023-01-01', '2023-02-01']})\n",
    "\n",
    "# Convert to datetime format\n",
    "df['Date'] = pd.to_datetime(df['Date'])\n",
    "\n",
    "# Extract month from date\n",
    "df['Month'] = df['Date'].dt.month\n",
    "\n",
    "# Resample to get monthly counts\n",
    "df.set_index('Date').resample('M').count()"
   ]
  },
  {
   "cell_type": "markdown",
   "id": "8b78bb7e",
   "metadata": {},
   "source": [
    "📌 Convert strings to datetime format, extract components (year, month, day),  \n",
    "and use `resample()` to group by time periods (daily, monthly, etc.)."
   ]
  },
  {
   "cell_type": "markdown",
   "id": "16d8f92c",
   "metadata": {},
   "source": [
    "### 7. File Input/Output"
   ]
  },
  {
   "cell_type": "code",
   "execution_count": null,
   "id": "c72fec66",
   "metadata": {},
   "outputs": [],
   "source": [
    "# Read a CSV file\n",
    "df = pd.read_csv('filename.csv')\n",
    "\n",
    "# Save DataFrame to a CSV file\n",
    "df.to_csv('output.csv', index=False)"
   ]
  },
  {
   "cell_type": "markdown",
   "id": "ebac350a",
   "metadata": {},
   "source": [
    "📌 Load data using `read_csv()` and export processed results using `to_csv()`."
   ]
  }
 ],
 "metadata": {
  "kernelspec": {
   "display_name": "Python 3 (ipykernel)",
   "language": "python",
   "name": "python3"
  },
  "language_info": {
   "codemirror_mode": {
    "name": "ipython",
    "version": 3
   },
   "file_extension": ".py",
   "mimetype": "text/x-python",
   "name": "python",
   "nbconvert_exporter": "python",
   "pygments_lexer": "ipython3",
   "version": "3.13.3"
  }
 },
 "nbformat": 4,
 "nbformat_minor": 5
}
