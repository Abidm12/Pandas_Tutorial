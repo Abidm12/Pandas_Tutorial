{
 "cells": [
  {
   "cell_type": "markdown",
   "id": "57bf2dea",
   "metadata": {},
   "source": [
    "# Pandas Beginner Level Tutorial"
   ]
  },
  {
   "cell_type": "markdown",
   "id": "0e513b4d",
   "metadata": {},
   "source": [
    "## Section 1: Data Structures & Basic Exploration"
   ]
  },
  {
   "cell_type": "markdown",
   "id": "9cfee40a",
   "metadata": {},
   "source": [
    "### 1. Introduction to Pandas\n",
    "\n",
    "Pandas is a powerful Python library used for data manipulation and analysis.  \n",
    "It provides two main data structures:\n",
    "\n",
    "- **Series**: A one-dimensional labeled array.\n",
    "- **DataFrame**: A two-dimensional labeled table (rows and columns)."
   ]
  },
  {
   "cell_type": "markdown",
   "id": "3d9d2961",
   "metadata": {},
   "source": [
    "### 2. Installing and Importing Pandas"
   ]
  },
  {
   "cell_type": "code",
   "execution_count": null,
   "id": "987c21da",
   "metadata": {},
   "outputs": [],
   "source": [
    "!pip install pandas  # Run this if pandas is not installed"
   ]
  },
  {
   "cell_type": "code",
   "execution_count": null,
   "id": "f8ba0398",
   "metadata": {},
   "outputs": [],
   "source": [
    "import pandas as pd  # Standard import"
   ]
  },
  {
   "cell_type": "markdown",
   "id": "0cdc4c56",
   "metadata": {},
   "source": [
    "### 3. Creating Data Structures"
   ]
  },
  {
   "cell_type": "code",
   "execution_count": null,
   "id": "41c76be3",
   "metadata": {},
   "outputs": [],
   "source": [
    "# Creating a Series\n",
    "s = pd.Series([10, 20, 30])\n",
    "print(\"Series:\")\n",
    "print(s)\n",
    "\n",
    "# Creating a DataFrame\n",
    "df = pd.DataFrame({\n",
    "    'Name': ['Alice', 'Bob'],\n",
    "    'Age': [25, 30]\n",
    "})\n",
    "print(\"\\nDataFrame:\")\n",
    "print(df)"
   ]
  },
  {
   "cell_type": "markdown",
   "id": "f2de94e9",
   "metadata": {},
   "source": [
    "✅ A **Series** is like a single column.  \n",
    "✅ A **DataFrame** is like an Excel table — rows and columns."
   ]
  },
  {
   "cell_type": "markdown",
   "id": "1d968ce9",
   "metadata": {},
   "source": [
    "### 4. Basic Data Exploration"
   ]
  },
  {
   "cell_type": "code",
   "execution_count": null,
   "id": "407a1b0d",
   "metadata": {},
   "outputs": [],
   "source": [
    "# View top and bottom rows\n",
    "df.head()\n",
    "df.tail()\n",
    "\n",
    "# Shape and structure\n",
    "df.shape\n",
    "df.info()\n",
    "df.describe()\n",
    "\n",
    "# Column and index details\n",
    "df.dtypes\n",
    "df.columns\n",
    "df.index"
   ]
  },
  {
   "cell_type": "markdown",
   "id": "f92b7c49",
   "metadata": {},
   "source": [
    "📌 These commands help you understand your dataset at a glance."
   ]
  },
  {
   "cell_type": "markdown",
   "id": "22e1283f",
   "metadata": {},
   "source": [
    "## Section 2: Accessing, Filtering & Cleaning Data"
   ]
  },
  {
   "cell_type": "markdown",
   "id": "6c35f6cd",
   "metadata": {},
   "source": [
    "### 5. Selecting Data"
   ]
  },
  {
   "cell_type": "code",
   "execution_count": null,
   "id": "585d7bf6",
   "metadata": {},
   "outputs": [],
   "source": [
    "# Select a column\n",
    "df['Name']\n",
    "df.Name\n",
    "\n",
    "# Select a row\n",
    "df.loc[0]\n",
    "df.iloc[1]"
   ]
  },
  {
   "cell_type": "markdown",
   "id": "7afe81a6",
   "metadata": {},
   "source": [
    "✅ Use `.loc[]` for label-based access, and `.iloc[]` for index-based access."
   ]
  },
  {
   "cell_type": "markdown",
   "id": "0cb95f32",
   "metadata": {},
   "source": [
    "### 6. Filtering Data"
   ]
  },
  {
   "cell_type": "code",
   "execution_count": null,
   "id": "76a1700d",
   "metadata": {},
   "outputs": [],
   "source": [
    "# Conditional filter\n",
    "df[df['Age'] > 25]\n",
    "\n",
    "# Match multiple values\n",
    "df[df['Name'].isin(['Alice', 'Bob'])]\n",
    "\n",
    "# Filter range\n",
    "df[df['Age'].between(20, 28)]"
   ]
  },
  {
   "cell_type": "markdown",
   "id": "9dab6fac",
   "metadata": {},
   "source": [
    "📌 Filtering helps extract rows that meet specific conditions."
   ]
  },
  {
   "cell_type": "markdown",
   "id": "84057c0a",
   "metadata": {},
   "source": [
    "### 7. Handling Missing Data"
   ]
  },
  {
   "cell_type": "code",
   "execution_count": null,
   "id": "70513252",
   "metadata": {},
   "outputs": [],
   "source": [
    "df = pd.DataFrame({\n",
    "    'Name': ['Alice', 'Bob', 'Charlie'],\n",
    "    'Age': [25, None, 35]\n",
    "})\n",
    "\n",
    "# Check for nulls\n",
    "df.isna()\n",
    "\n",
    "# Fill missing values\n",
    "df.fillna(0)\n",
    "\n",
    "# Drop rows with nulls\n",
    "df.dropna()"
   ]
  },
  {
   "cell_type": "markdown",
   "id": "77fbef16",
   "metadata": {},
   "source": [
    "📌 It's important to handle missing (NaN) values before analysis."
   ]
  },
  {
   "cell_type": "markdown",
   "id": "3132f72c",
   "metadata": {},
   "source": [
    "### 8. Replacing & Renaming"
   ]
  },
  {
   "cell_type": "code",
   "execution_count": null,
   "id": "c1b91b7e",
   "metadata": {},
   "outputs": [],
   "source": [
    "# Replace values\n",
    "df['Name'].replace({'Alice': 'Alicia'}, inplace=True)\n",
    "\n",
    "# Rename columns\n",
    "df.rename(columns={'Age': 'Years'}, inplace=True)"
   ]
  },
  {
   "cell_type": "markdown",
   "id": "70447a59",
   "metadata": {},
   "source": [
    "✅ Replace is used for values inside a column.  \n",
    "✅ Rename is used for changing column names."
   ]
  }
 ],
 "metadata": {
  "kernelspec": {
   "display_name": "Python 3 (ipykernel)",
   "language": "python",
   "name": "python3"
  },
  "language_info": {
   "codemirror_mode": {
    "name": "ipython",
    "version": 3
   },
   "file_extension": ".py",
   "mimetype": "text/x-python",
   "name": "python",
   "nbconvert_exporter": "python",
   "pygments_lexer": "ipython3",
   "version": "3.13.3"
  }
 },
 "nbformat": 4,
 "nbformat_minor": 5
}
